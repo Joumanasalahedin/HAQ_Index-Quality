{
 "cells": [
  {
   "cell_type": "code",
   "execution_count": 7,
   "metadata": {},
   "outputs": [],
   "source": [
    "import pandas as pd\n",
    "\n",
    "df = pd.read_csv('data/haq-vs-healthcare-spending.csv')\n",
    "continents = ['Africa', 'Asia', 'Europe', 'South America', 'North America', 'Antarctica',\n",
    "              'Central Asia', 'Central Europe', 'Central Latin America', 'Central Sub-Saharan Africa', 'East Asia', 'East Germany']\n",
    "df_filtered = df[-df['Entity'].str.startswith(tuple(continents))]\n",
    "output = \"filtered.csv\"\n",
    "df_filtered.to_csv(output, index=False)\n",
    "# json_data = df.to_json(orient='records')\n",
    "# with open('haq_data.json', 'w') as json_file:\n",
    "#     json_file.write(json_data)\n"
   ]
  },
  {
   "cell_type": "markdown",
   "metadata": {},
   "source": []
  }
 ],
 "metadata": {
  "kernelspec": {
   "display_name": "Python 3",
   "language": "python",
   "name": "python3"
  },
  "language_info": {
   "codemirror_mode": {
    "name": "ipython",
    "version": 3
   },
   "file_extension": ".py",
   "mimetype": "text/x-python",
   "name": "python",
   "nbconvert_exporter": "python",
   "pygments_lexer": "ipython3",
   "version": "3.10.13"
  }
 },
 "nbformat": 4,
 "nbformat_minor": 2
}
